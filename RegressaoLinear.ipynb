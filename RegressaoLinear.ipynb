{
  "nbformat": 4,
  "nbformat_minor": 0,
  "metadata": {
    "colab": {
      "provenance": [],
      "authorship_tag": "ABX9TyMjjoHKSOc0J9F3MZ/jeehW",
      "include_colab_link": true
    },
    "kernelspec": {
      "name": "python3",
      "display_name": "Python 3"
    },
    "language_info": {
      "name": "python"
    }
  },
  "cells": [
    {
      "cell_type": "markdown",
      "metadata": {
        "id": "view-in-github",
        "colab_type": "text"
      },
      "source": [
        "<a href=\"https://colab.research.google.com/github/pierrout/AIML/blob/main/RegressaoLinear.ipynb\" target=\"_parent\"><img src=\"https://colab.research.google.com/assets/colab-badge.svg\" alt=\"Open In Colab\"/></a>"
      ]
    },
    {
      "cell_type": "code",
      "execution_count": 1,
      "metadata": {
        "id": "EYGM_buIJZRn"
      },
      "outputs": [],
      "source": [
        "from numpy import *"
      ]
    },
    {
      "cell_type": "markdown",
      "source": [
        "# **Dunder**\n",
        "\n",
        "\n",
        "\n",
        "*   Name Mangling\n",
        "    *  nome de um atributo em uma classe com o objetivo de evitar conflitos de nomes quando uma classe é herdada.\n",
        "      *ex: __atributo --> _NomeDaClasse__atributo  \n",
        "*   *Convenção* para indicar privado\n",
        "    *   quando colocar dois underscores é para indicar **fortemente** que um método ou atributo não deve ser acessado diretamente fora da classe\n",
        "\n",
        "\n",
        "\n"
      ],
      "metadata": {
        "id": "4ySGkJdfj9kF"
      }
    },
    {
      "cell_type": "code",
      "source": [
        "class LinearRegression:\n",
        "    def __init__(self, x, y):\n",
        "      self.x = x\n",
        "      self.y = y\n",
        "      self.__correlation_coefficient = self.__correlacao()\n",
        "      self.__inclination = self.__inclinacao()\n",
        "      self.__intercept = self.__interceptacao()\n",
        "\n",
        "    # Cálculo da variação\n",
        "    # método que retorna uma matriz, e quero especificamente a covariacao de x e y. Por isso o [0][1]\n",
        "    def __correlacao(self):\n",
        "      covariacao = cov(self.x, self.y, bias=True)[0][1]\n",
        "      variancia_x = var(self.x)\n",
        "      variancia_y = var(self.y)\n",
        "      return covariacao / sqrt(variancia_x * variancia_y)\n",
        "\n",
        "    ## inclinação é a correlação x o desvio padrao Y / desvio padrao X\n",
        "    def __inclinacao(self):\n",
        "      #funções para calcular desvio padrao\n",
        "      stdx = std(self.x)\n",
        "      stdy = std(self.y)\n",
        "      return self.__correlation_coefficient * (stdy / stdx)\n",
        "\n",
        "    # para a interceptação precisa da média de x e y, além da inclinação\n",
        "    def __interceptacao(self):\n",
        "      mediax = mean(self.x)\n",
        "      mediay = mean(self.y)\n",
        "      return mediay - mediax * self.__inclination\n",
        "\n",
        "    # para a previsão preciso da interceptaçãO + inclinação\n",
        "    def previsao(self, valor):\n",
        "      return self.__intercept + (self.__inclination * valor)\n"
      ],
      "metadata": {
        "id": "vbVbMFaBcbWs"
      },
      "execution_count": 2,
      "outputs": []
    },
    {
      "cell_type": "code",
      "source": [
        "## colocando o x = 6 eu quero prever o valor de Y\n",
        "x = array([1,2,3,4,5])\n",
        "y = array([2,4,6,8,10])\n",
        "\n",
        "lr = LinearRegression(x,y)\n",
        "previsao = lr.previsao(6)\n",
        "print(previsao)"
      ],
      "metadata": {
        "colab": {
          "base_uri": "https://localhost:8080/"
        },
        "id": "9G8wzEOci0V-",
        "outputId": "3c5f1bf1-943c-423d-a389-7b16b4623dbc"
      },
      "execution_count": 3,
      "outputs": [
        {
          "output_type": "stream",
          "name": "stdout",
          "text": [
            "12.0\n"
          ]
        }
      ]
    }
  ]
}