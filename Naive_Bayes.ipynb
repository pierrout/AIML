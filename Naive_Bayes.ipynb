{
  "nbformat": 4,
  "nbformat_minor": 0,
  "metadata": {
    "colab": {
      "provenance": [],
      "authorship_tag": "ABX9TyM0AcnPvAsWJQenTNvc9k6c",
      "include_colab_link": true
    },
    "kernelspec": {
      "name": "python3",
      "display_name": "Python 3"
    },
    "language_info": {
      "name": "python"
    }
  },
  "cells": [
    {
      "cell_type": "markdown",
      "metadata": {
        "id": "view-in-github",
        "colab_type": "text"
      },
      "source": [
        "<a href=\"https://colab.research.google.com/github/pierrout/AIML/blob/main/Naive_Bayes.ipynb\" target=\"_parent\"><img src=\"https://colab.research.google.com/assets/colab-badge.svg\" alt=\"Open In Colab\"/></a>"
      ]
    },
    {
      "cell_type": "code",
      "execution_count": 1,
      "metadata": {
        "id": "9iuLX21tyxWv"
      },
      "outputs": [],
      "source": [
        "import pandas as pd\n",
        "# divide os dados em treino e teste\n",
        "from sklearn.model_selection import train_test_split\n",
        "from sklearn.naive_bayes import GaussianNB\n",
        "# tranforma dados categóricos em informações numéricas\n",
        "from sklearn.preprocessing import LabelEncoder\n",
        "# avaliar métricas do modelo\n",
        "# classification_report traz um relatório\n",
        "from sklearn.metrics import accuracy_score, precision_score, recall_score, f1_score, classification_report\n",
        "from yellowbrick.classifier import ConfusionMatrix"
      ]
    },
    {
      "cell_type": "code",
      "source": [
        "base = pd.read_csv('insurance.csv')\n",
        "## Accident é a variável dependente, o q quer prever\n",
        "base"
      ],
      "metadata": {
        "colab": {
          "base_uri": "https://localhost:8080/",
          "height": 461
        },
        "id": "sRwF-e9q2Ewo",
        "outputId": "bda43ceb-8517-4214-bdba-67d444571cc9"
      },
      "execution_count": 2,
      "outputs": [
        {
          "output_type": "execute_result",
          "data": {
            "text/plain": [
              "       Unnamed: 0  GoodStudent         Age    SocioEcon RiskAversion  \\\n",
              "0               1        False       Adult        Prole  Adventurous   \n",
              "1               2        False      Senior        Prole     Cautious   \n",
              "2               3        False      Senior  UpperMiddle   Psychopath   \n",
              "3               4        False  Adolescent       Middle       Normal   \n",
              "4               5        False  Adolescent        Prole       Normal   \n",
              "...           ...          ...         ...          ...          ...   \n",
              "19995       19996        False       Adult        Prole  Adventurous   \n",
              "19996       19997        False       Adult       Middle       Normal   \n",
              "19997       19998        False      Senior  UpperMiddle       Normal   \n",
              "19998       19999        False       Adult       Middle       Normal   \n",
              "19999       20000        False       Adult       Middle       Normal   \n",
              "\n",
              "      VehicleYear ThisCarDam RuggedAuto  Accident    MakeModel  ... HomeBase  \\\n",
              "0           Older   Moderate   EggShell      Mild      Economy  ...     City   \n",
              "1         Current       None   Football      None      Economy  ...     City   \n",
              "2         Current       None   Football      None  FamilySedan  ...     City   \n",
              "3           Older       None   EggShell      None      Economy  ...   Suburb   \n",
              "4           Older   Moderate   Football  Moderate      Economy  ...     City   \n",
              "...           ...        ...        ...       ...          ...  ...      ...   \n",
              "19995       Older       Mild   Football      Mild      Economy  ...     City   \n",
              "19996       Older       None       Tank      None  FamilySedan  ...   Suburb   \n",
              "19997     Current       None   Football      None       Luxury  ...   Secure   \n",
              "19998       Older       None   Football      None  FamilySedan  ...   Suburb   \n",
              "19999       Older       None       Tank      None  FamilySedan  ...   Secure   \n",
              "\n",
              "      AntiTheft  PropCost OtherCarCost  OtherCar   MedCost  Cushioning Airbag  \\\n",
              "0         False   TenThou     Thousand      True  Thousand        Poor  False   \n",
              "1          True  Thousand     Thousand      True  Thousand        Good   True   \n",
              "2         False  Thousand     Thousand     False  Thousand        Good   True   \n",
              "3         False  Thousand     Thousand      True  Thousand        Fair  False   \n",
              "4         False   TenThou     Thousand     False  Thousand        Fair  False   \n",
              "...         ...       ...          ...       ...       ...         ...    ...   \n",
              "19995     False  Thousand     Thousand      True  Thousand        Fair  False   \n",
              "19996     False  Thousand     Thousand      True  Thousand        Good  False   \n",
              "19997      True   TenThou     Thousand     False  Thousand   Excellent   True   \n",
              "19998     False  Thousand     Thousand      True  Thousand        Good   True   \n",
              "19999     False  Thousand     Thousand      True  Thousand   Excellent   True   \n",
              "\n",
              "        ILiCost  DrivHist  \n",
              "0      Thousand      Many  \n",
              "1      Thousand      Zero  \n",
              "2      Thousand       One  \n",
              "3      Thousand      Zero  \n",
              "4      Thousand      Many  \n",
              "...         ...       ...  \n",
              "19995  Thousand      Many  \n",
              "19996  Thousand      Zero  \n",
              "19997  Thousand      Zero  \n",
              "19998  Thousand      Zero  \n",
              "19999  Thousand      Zero  \n",
              "\n",
              "[20000 rows x 28 columns]"
            ],
            "text/html": [
              "\n",
              "  <div id=\"df-f81eb48e-d5be-4a53-b3d0-2aecadf6f3b5\" class=\"colab-df-container\">\n",
              "    <div>\n",
              "<style scoped>\n",
              "    .dataframe tbody tr th:only-of-type {\n",
              "        vertical-align: middle;\n",
              "    }\n",
              "\n",
              "    .dataframe tbody tr th {\n",
              "        vertical-align: top;\n",
              "    }\n",
              "\n",
              "    .dataframe thead th {\n",
              "        text-align: right;\n",
              "    }\n",
              "</style>\n",
              "<table border=\"1\" class=\"dataframe\">\n",
              "  <thead>\n",
              "    <tr style=\"text-align: right;\">\n",
              "      <th></th>\n",
              "      <th>Unnamed: 0</th>\n",
              "      <th>GoodStudent</th>\n",
              "      <th>Age</th>\n",
              "      <th>SocioEcon</th>\n",
              "      <th>RiskAversion</th>\n",
              "      <th>VehicleYear</th>\n",
              "      <th>ThisCarDam</th>\n",
              "      <th>RuggedAuto</th>\n",
              "      <th>Accident</th>\n",
              "      <th>MakeModel</th>\n",
              "      <th>...</th>\n",
              "      <th>HomeBase</th>\n",
              "      <th>AntiTheft</th>\n",
              "      <th>PropCost</th>\n",
              "      <th>OtherCarCost</th>\n",
              "      <th>OtherCar</th>\n",
              "      <th>MedCost</th>\n",
              "      <th>Cushioning</th>\n",
              "      <th>Airbag</th>\n",
              "      <th>ILiCost</th>\n",
              "      <th>DrivHist</th>\n",
              "    </tr>\n",
              "  </thead>\n",
              "  <tbody>\n",
              "    <tr>\n",
              "      <th>0</th>\n",
              "      <td>1</td>\n",
              "      <td>False</td>\n",
              "      <td>Adult</td>\n",
              "      <td>Prole</td>\n",
              "      <td>Adventurous</td>\n",
              "      <td>Older</td>\n",
              "      <td>Moderate</td>\n",
              "      <td>EggShell</td>\n",
              "      <td>Mild</td>\n",
              "      <td>Economy</td>\n",
              "      <td>...</td>\n",
              "      <td>City</td>\n",
              "      <td>False</td>\n",
              "      <td>TenThou</td>\n",
              "      <td>Thousand</td>\n",
              "      <td>True</td>\n",
              "      <td>Thousand</td>\n",
              "      <td>Poor</td>\n",
              "      <td>False</td>\n",
              "      <td>Thousand</td>\n",
              "      <td>Many</td>\n",
              "    </tr>\n",
              "    <tr>\n",
              "      <th>1</th>\n",
              "      <td>2</td>\n",
              "      <td>False</td>\n",
              "      <td>Senior</td>\n",
              "      <td>Prole</td>\n",
              "      <td>Cautious</td>\n",
              "      <td>Current</td>\n",
              "      <td>None</td>\n",
              "      <td>Football</td>\n",
              "      <td>None</td>\n",
              "      <td>Economy</td>\n",
              "      <td>...</td>\n",
              "      <td>City</td>\n",
              "      <td>True</td>\n",
              "      <td>Thousand</td>\n",
              "      <td>Thousand</td>\n",
              "      <td>True</td>\n",
              "      <td>Thousand</td>\n",
              "      <td>Good</td>\n",
              "      <td>True</td>\n",
              "      <td>Thousand</td>\n",
              "      <td>Zero</td>\n",
              "    </tr>\n",
              "    <tr>\n",
              "      <th>2</th>\n",
              "      <td>3</td>\n",
              "      <td>False</td>\n",
              "      <td>Senior</td>\n",
              "      <td>UpperMiddle</td>\n",
              "      <td>Psychopath</td>\n",
              "      <td>Current</td>\n",
              "      <td>None</td>\n",
              "      <td>Football</td>\n",
              "      <td>None</td>\n",
              "      <td>FamilySedan</td>\n",
              "      <td>...</td>\n",
              "      <td>City</td>\n",
              "      <td>False</td>\n",
              "      <td>Thousand</td>\n",
              "      <td>Thousand</td>\n",
              "      <td>False</td>\n",
              "      <td>Thousand</td>\n",
              "      <td>Good</td>\n",
              "      <td>True</td>\n",
              "      <td>Thousand</td>\n",
              "      <td>One</td>\n",
              "    </tr>\n",
              "    <tr>\n",
              "      <th>3</th>\n",
              "      <td>4</td>\n",
              "      <td>False</td>\n",
              "      <td>Adolescent</td>\n",
              "      <td>Middle</td>\n",
              "      <td>Normal</td>\n",
              "      <td>Older</td>\n",
              "      <td>None</td>\n",
              "      <td>EggShell</td>\n",
              "      <td>None</td>\n",
              "      <td>Economy</td>\n",
              "      <td>...</td>\n",
              "      <td>Suburb</td>\n",
              "      <td>False</td>\n",
              "      <td>Thousand</td>\n",
              "      <td>Thousand</td>\n",
              "      <td>True</td>\n",
              "      <td>Thousand</td>\n",
              "      <td>Fair</td>\n",
              "      <td>False</td>\n",
              "      <td>Thousand</td>\n",
              "      <td>Zero</td>\n",
              "    </tr>\n",
              "    <tr>\n",
              "      <th>4</th>\n",
              "      <td>5</td>\n",
              "      <td>False</td>\n",
              "      <td>Adolescent</td>\n",
              "      <td>Prole</td>\n",
              "      <td>Normal</td>\n",
              "      <td>Older</td>\n",
              "      <td>Moderate</td>\n",
              "      <td>Football</td>\n",
              "      <td>Moderate</td>\n",
              "      <td>Economy</td>\n",
              "      <td>...</td>\n",
              "      <td>City</td>\n",
              "      <td>False</td>\n",
              "      <td>TenThou</td>\n",
              "      <td>Thousand</td>\n",
              "      <td>False</td>\n",
              "      <td>Thousand</td>\n",
              "      <td>Fair</td>\n",
              "      <td>False</td>\n",
              "      <td>Thousand</td>\n",
              "      <td>Many</td>\n",
              "    </tr>\n",
              "    <tr>\n",
              "      <th>...</th>\n",
              "      <td>...</td>\n",
              "      <td>...</td>\n",
              "      <td>...</td>\n",
              "      <td>...</td>\n",
              "      <td>...</td>\n",
              "      <td>...</td>\n",
              "      <td>...</td>\n",
              "      <td>...</td>\n",
              "      <td>...</td>\n",
              "      <td>...</td>\n",
              "      <td>...</td>\n",
              "      <td>...</td>\n",
              "      <td>...</td>\n",
              "      <td>...</td>\n",
              "      <td>...</td>\n",
              "      <td>...</td>\n",
              "      <td>...</td>\n",
              "      <td>...</td>\n",
              "      <td>...</td>\n",
              "      <td>...</td>\n",
              "      <td>...</td>\n",
              "    </tr>\n",
              "    <tr>\n",
              "      <th>19995</th>\n",
              "      <td>19996</td>\n",
              "      <td>False</td>\n",
              "      <td>Adult</td>\n",
              "      <td>Prole</td>\n",
              "      <td>Adventurous</td>\n",
              "      <td>Older</td>\n",
              "      <td>Mild</td>\n",
              "      <td>Football</td>\n",
              "      <td>Mild</td>\n",
              "      <td>Economy</td>\n",
              "      <td>...</td>\n",
              "      <td>City</td>\n",
              "      <td>False</td>\n",
              "      <td>Thousand</td>\n",
              "      <td>Thousand</td>\n",
              "      <td>True</td>\n",
              "      <td>Thousand</td>\n",
              "      <td>Fair</td>\n",
              "      <td>False</td>\n",
              "      <td>Thousand</td>\n",
              "      <td>Many</td>\n",
              "    </tr>\n",
              "    <tr>\n",
              "      <th>19996</th>\n",
              "      <td>19997</td>\n",
              "      <td>False</td>\n",
              "      <td>Adult</td>\n",
              "      <td>Middle</td>\n",
              "      <td>Normal</td>\n",
              "      <td>Older</td>\n",
              "      <td>None</td>\n",
              "      <td>Tank</td>\n",
              "      <td>None</td>\n",
              "      <td>FamilySedan</td>\n",
              "      <td>...</td>\n",
              "      <td>Suburb</td>\n",
              "      <td>False</td>\n",
              "      <td>Thousand</td>\n",
              "      <td>Thousand</td>\n",
              "      <td>True</td>\n",
              "      <td>Thousand</td>\n",
              "      <td>Good</td>\n",
              "      <td>False</td>\n",
              "      <td>Thousand</td>\n",
              "      <td>Zero</td>\n",
              "    </tr>\n",
              "    <tr>\n",
              "      <th>19997</th>\n",
              "      <td>19998</td>\n",
              "      <td>False</td>\n",
              "      <td>Senior</td>\n",
              "      <td>UpperMiddle</td>\n",
              "      <td>Normal</td>\n",
              "      <td>Current</td>\n",
              "      <td>None</td>\n",
              "      <td>Football</td>\n",
              "      <td>None</td>\n",
              "      <td>Luxury</td>\n",
              "      <td>...</td>\n",
              "      <td>Secure</td>\n",
              "      <td>True</td>\n",
              "      <td>TenThou</td>\n",
              "      <td>Thousand</td>\n",
              "      <td>False</td>\n",
              "      <td>Thousand</td>\n",
              "      <td>Excellent</td>\n",
              "      <td>True</td>\n",
              "      <td>Thousand</td>\n",
              "      <td>Zero</td>\n",
              "    </tr>\n",
              "    <tr>\n",
              "      <th>19998</th>\n",
              "      <td>19999</td>\n",
              "      <td>False</td>\n",
              "      <td>Adult</td>\n",
              "      <td>Middle</td>\n",
              "      <td>Normal</td>\n",
              "      <td>Older</td>\n",
              "      <td>None</td>\n",
              "      <td>Football</td>\n",
              "      <td>None</td>\n",
              "      <td>FamilySedan</td>\n",
              "      <td>...</td>\n",
              "      <td>Suburb</td>\n",
              "      <td>False</td>\n",
              "      <td>Thousand</td>\n",
              "      <td>Thousand</td>\n",
              "      <td>True</td>\n",
              "      <td>Thousand</td>\n",
              "      <td>Good</td>\n",
              "      <td>True</td>\n",
              "      <td>Thousand</td>\n",
              "      <td>Zero</td>\n",
              "    </tr>\n",
              "    <tr>\n",
              "      <th>19999</th>\n",
              "      <td>20000</td>\n",
              "      <td>False</td>\n",
              "      <td>Adult</td>\n",
              "      <td>Middle</td>\n",
              "      <td>Normal</td>\n",
              "      <td>Older</td>\n",
              "      <td>None</td>\n",
              "      <td>Tank</td>\n",
              "      <td>None</td>\n",
              "      <td>FamilySedan</td>\n",
              "      <td>...</td>\n",
              "      <td>Secure</td>\n",
              "      <td>False</td>\n",
              "      <td>Thousand</td>\n",
              "      <td>Thousand</td>\n",
              "      <td>True</td>\n",
              "      <td>Thousand</td>\n",
              "      <td>Excellent</td>\n",
              "      <td>True</td>\n",
              "      <td>Thousand</td>\n",
              "      <td>Zero</td>\n",
              "    </tr>\n",
              "  </tbody>\n",
              "</table>\n",
              "<p>20000 rows × 28 columns</p>\n",
              "</div>\n",
              "    <div class=\"colab-df-buttons\">\n",
              "\n",
              "  <div class=\"colab-df-container\">\n",
              "    <button class=\"colab-df-convert\" onclick=\"convertToInteractive('df-f81eb48e-d5be-4a53-b3d0-2aecadf6f3b5')\"\n",
              "            title=\"Convert this dataframe to an interactive table.\"\n",
              "            style=\"display:none;\">\n",
              "\n",
              "  <svg xmlns=\"http://www.w3.org/2000/svg\" height=\"24px\" viewBox=\"0 -960 960 960\">\n",
              "    <path d=\"M120-120v-720h720v720H120Zm60-500h600v-160H180v160Zm220 220h160v-160H400v160Zm0 220h160v-160H400v160ZM180-400h160v-160H180v160Zm440 0h160v-160H620v160ZM180-180h160v-160H180v160Zm440 0h160v-160H620v160Z\"/>\n",
              "  </svg>\n",
              "    </button>\n",
              "\n",
              "  <style>\n",
              "    .colab-df-container {\n",
              "      display:flex;\n",
              "      gap: 12px;\n",
              "    }\n",
              "\n",
              "    .colab-df-convert {\n",
              "      background-color: #E8F0FE;\n",
              "      border: none;\n",
              "      border-radius: 50%;\n",
              "      cursor: pointer;\n",
              "      display: none;\n",
              "      fill: #1967D2;\n",
              "      height: 32px;\n",
              "      padding: 0 0 0 0;\n",
              "      width: 32px;\n",
              "    }\n",
              "\n",
              "    .colab-df-convert:hover {\n",
              "      background-color: #E2EBFA;\n",
              "      box-shadow: 0px 1px 2px rgba(60, 64, 67, 0.3), 0px 1px 3px 1px rgba(60, 64, 67, 0.15);\n",
              "      fill: #174EA6;\n",
              "    }\n",
              "\n",
              "    .colab-df-buttons div {\n",
              "      margin-bottom: 4px;\n",
              "    }\n",
              "\n",
              "    [theme=dark] .colab-df-convert {\n",
              "      background-color: #3B4455;\n",
              "      fill: #D2E3FC;\n",
              "    }\n",
              "\n",
              "    [theme=dark] .colab-df-convert:hover {\n",
              "      background-color: #434B5C;\n",
              "      box-shadow: 0px 1px 3px 1px rgba(0, 0, 0, 0.15);\n",
              "      filter: drop-shadow(0px 1px 2px rgba(0, 0, 0, 0.3));\n",
              "      fill: #FFFFFF;\n",
              "    }\n",
              "  </style>\n",
              "\n",
              "    <script>\n",
              "      const buttonEl =\n",
              "        document.querySelector('#df-f81eb48e-d5be-4a53-b3d0-2aecadf6f3b5 button.colab-df-convert');\n",
              "      buttonEl.style.display =\n",
              "        google.colab.kernel.accessAllowed ? 'block' : 'none';\n",
              "\n",
              "      async function convertToInteractive(key) {\n",
              "        const element = document.querySelector('#df-f81eb48e-d5be-4a53-b3d0-2aecadf6f3b5');\n",
              "        const dataTable =\n",
              "          await google.colab.kernel.invokeFunction('convertToInteractive',\n",
              "                                                    [key], {});\n",
              "        if (!dataTable) return;\n",
              "\n",
              "        const docLinkHtml = 'Like what you see? Visit the ' +\n",
              "          '<a target=\"_blank\" href=https://colab.research.google.com/notebooks/data_table.ipynb>data table notebook</a>'\n",
              "          + ' to learn more about interactive tables.';\n",
              "        element.innerHTML = '';\n",
              "        dataTable['output_type'] = 'display_data';\n",
              "        await google.colab.output.renderOutput(dataTable, element);\n",
              "        const docLink = document.createElement('div');\n",
              "        docLink.innerHTML = docLinkHtml;\n",
              "        element.appendChild(docLink);\n",
              "      }\n",
              "    </script>\n",
              "  </div>\n",
              "\n",
              "\n",
              "<div id=\"df-dfe5dba8-de8d-4431-8b2e-9b91ba60ff76\">\n",
              "  <button class=\"colab-df-quickchart\" onclick=\"quickchart('df-dfe5dba8-de8d-4431-8b2e-9b91ba60ff76')\"\n",
              "            title=\"Suggest charts\"\n",
              "            style=\"display:none;\">\n",
              "\n",
              "<svg xmlns=\"http://www.w3.org/2000/svg\" height=\"24px\"viewBox=\"0 0 24 24\"\n",
              "     width=\"24px\">\n",
              "    <g>\n",
              "        <path d=\"M19 3H5c-1.1 0-2 .9-2 2v14c0 1.1.9 2 2 2h14c1.1 0 2-.9 2-2V5c0-1.1-.9-2-2-2zM9 17H7v-7h2v7zm4 0h-2V7h2v10zm4 0h-2v-4h2v4z\"/>\n",
              "    </g>\n",
              "</svg>\n",
              "  </button>\n",
              "\n",
              "<style>\n",
              "  .colab-df-quickchart {\n",
              "      --bg-color: #E8F0FE;\n",
              "      --fill-color: #1967D2;\n",
              "      --hover-bg-color: #E2EBFA;\n",
              "      --hover-fill-color: #174EA6;\n",
              "      --disabled-fill-color: #AAA;\n",
              "      --disabled-bg-color: #DDD;\n",
              "  }\n",
              "\n",
              "  [theme=dark] .colab-df-quickchart {\n",
              "      --bg-color: #3B4455;\n",
              "      --fill-color: #D2E3FC;\n",
              "      --hover-bg-color: #434B5C;\n",
              "      --hover-fill-color: #FFFFFF;\n",
              "      --disabled-bg-color: #3B4455;\n",
              "      --disabled-fill-color: #666;\n",
              "  }\n",
              "\n",
              "  .colab-df-quickchart {\n",
              "    background-color: var(--bg-color);\n",
              "    border: none;\n",
              "    border-radius: 50%;\n",
              "    cursor: pointer;\n",
              "    display: none;\n",
              "    fill: var(--fill-color);\n",
              "    height: 32px;\n",
              "    padding: 0;\n",
              "    width: 32px;\n",
              "  }\n",
              "\n",
              "  .colab-df-quickchart:hover {\n",
              "    background-color: var(--hover-bg-color);\n",
              "    box-shadow: 0 1px 2px rgba(60, 64, 67, 0.3), 0 1px 3px 1px rgba(60, 64, 67, 0.15);\n",
              "    fill: var(--button-hover-fill-color);\n",
              "  }\n",
              "\n",
              "  .colab-df-quickchart-complete:disabled,\n",
              "  .colab-df-quickchart-complete:disabled:hover {\n",
              "    background-color: var(--disabled-bg-color);\n",
              "    fill: var(--disabled-fill-color);\n",
              "    box-shadow: none;\n",
              "  }\n",
              "\n",
              "  .colab-df-spinner {\n",
              "    border: 2px solid var(--fill-color);\n",
              "    border-color: transparent;\n",
              "    border-bottom-color: var(--fill-color);\n",
              "    animation:\n",
              "      spin 1s steps(1) infinite;\n",
              "  }\n",
              "\n",
              "  @keyframes spin {\n",
              "    0% {\n",
              "      border-color: transparent;\n",
              "      border-bottom-color: var(--fill-color);\n",
              "      border-left-color: var(--fill-color);\n",
              "    }\n",
              "    20% {\n",
              "      border-color: transparent;\n",
              "      border-left-color: var(--fill-color);\n",
              "      border-top-color: var(--fill-color);\n",
              "    }\n",
              "    30% {\n",
              "      border-color: transparent;\n",
              "      border-left-color: var(--fill-color);\n",
              "      border-top-color: var(--fill-color);\n",
              "      border-right-color: var(--fill-color);\n",
              "    }\n",
              "    40% {\n",
              "      border-color: transparent;\n",
              "      border-right-color: var(--fill-color);\n",
              "      border-top-color: var(--fill-color);\n",
              "    }\n",
              "    60% {\n",
              "      border-color: transparent;\n",
              "      border-right-color: var(--fill-color);\n",
              "    }\n",
              "    80% {\n",
              "      border-color: transparent;\n",
              "      border-right-color: var(--fill-color);\n",
              "      border-bottom-color: var(--fill-color);\n",
              "    }\n",
              "    90% {\n",
              "      border-color: transparent;\n",
              "      border-bottom-color: var(--fill-color);\n",
              "    }\n",
              "  }\n",
              "</style>\n",
              "\n",
              "  <script>\n",
              "    async function quickchart(key) {\n",
              "      const quickchartButtonEl =\n",
              "        document.querySelector('#' + key + ' button');\n",
              "      quickchartButtonEl.disabled = true;  // To prevent multiple clicks.\n",
              "      quickchartButtonEl.classList.add('colab-df-spinner');\n",
              "      try {\n",
              "        const charts = await google.colab.kernel.invokeFunction(\n",
              "            'suggestCharts', [key], {});\n",
              "      } catch (error) {\n",
              "        console.error('Error during call to suggestCharts:', error);\n",
              "      }\n",
              "      quickchartButtonEl.classList.remove('colab-df-spinner');\n",
              "      quickchartButtonEl.classList.add('colab-df-quickchart-complete');\n",
              "    }\n",
              "    (() => {\n",
              "      let quickchartButtonEl =\n",
              "        document.querySelector('#df-dfe5dba8-de8d-4431-8b2e-9b91ba60ff76 button');\n",
              "      quickchartButtonEl.style.display =\n",
              "        google.colab.kernel.accessAllowed ? 'block' : 'none';\n",
              "    })();\n",
              "  </script>\n",
              "</div>\n",
              "\n",
              "  <div id=\"id_fba99742-8ff9-4136-9120-fa2d8377f94a\">\n",
              "    <style>\n",
              "      .colab-df-generate {\n",
              "        background-color: #E8F0FE;\n",
              "        border: none;\n",
              "        border-radius: 50%;\n",
              "        cursor: pointer;\n",
              "        display: none;\n",
              "        fill: #1967D2;\n",
              "        height: 32px;\n",
              "        padding: 0 0 0 0;\n",
              "        width: 32px;\n",
              "      }\n",
              "\n",
              "      .colab-df-generate:hover {\n",
              "        background-color: #E2EBFA;\n",
              "        box-shadow: 0px 1px 2px rgba(60, 64, 67, 0.3), 0px 1px 3px 1px rgba(60, 64, 67, 0.15);\n",
              "        fill: #174EA6;\n",
              "      }\n",
              "\n",
              "      [theme=dark] .colab-df-generate {\n",
              "        background-color: #3B4455;\n",
              "        fill: #D2E3FC;\n",
              "      }\n",
              "\n",
              "      [theme=dark] .colab-df-generate:hover {\n",
              "        background-color: #434B5C;\n",
              "        box-shadow: 0px 1px 3px 1px rgba(0, 0, 0, 0.15);\n",
              "        filter: drop-shadow(0px 1px 2px rgba(0, 0, 0, 0.3));\n",
              "        fill: #FFFFFF;\n",
              "      }\n",
              "    </style>\n",
              "    <button class=\"colab-df-generate\" onclick=\"generateWithVariable('base')\"\n",
              "            title=\"Generate code using this dataframe.\"\n",
              "            style=\"display:none;\">\n",
              "\n",
              "  <svg xmlns=\"http://www.w3.org/2000/svg\" height=\"24px\"viewBox=\"0 0 24 24\"\n",
              "       width=\"24px\">\n",
              "    <path d=\"M7,19H8.4L18.45,9,17,7.55,7,17.6ZM5,21V16.75L18.45,3.32a2,2,0,0,1,2.83,0l1.4,1.43a1.91,1.91,0,0,1,.58,1.4,1.91,1.91,0,0,1-.58,1.4L9.25,21ZM18.45,9,17,7.55Zm-12,3A5.31,5.31,0,0,0,4.9,8.1,5.31,5.31,0,0,0,1,6.5,5.31,5.31,0,0,0,4.9,4.9,5.31,5.31,0,0,0,6.5,1,5.31,5.31,0,0,0,8.1,4.9,5.31,5.31,0,0,0,12,6.5,5.46,5.46,0,0,0,6.5,12Z\"/>\n",
              "  </svg>\n",
              "    </button>\n",
              "    <script>\n",
              "      (() => {\n",
              "      const buttonEl =\n",
              "        document.querySelector('#id_fba99742-8ff9-4136-9120-fa2d8377f94a button.colab-df-generate');\n",
              "      buttonEl.style.display =\n",
              "        google.colab.kernel.accessAllowed ? 'block' : 'none';\n",
              "\n",
              "      buttonEl.onclick = () => {\n",
              "        google.colab.notebook.generateWithVariable('base');\n",
              "      }\n",
              "      })();\n",
              "    </script>\n",
              "  </div>\n",
              "\n",
              "    </div>\n",
              "  </div>\n"
            ],
            "application/vnd.google.colaboratory.intrinsic+json": {
              "type": "dataframe",
              "variable_name": "base"
            }
          },
          "metadata": {},
          "execution_count": 2
        }
      ]
    },
    {
      "cell_type": "code",
      "source": [
        "y = base.iloc[:,7].values\n",
        "# todas as linhas + lista de colunas\n",
        "# vai da coluna 0 até 26, pulando a 7° q é o y\n",
        "# jeito do prof\n",
        "#X = base.iloc[:,[0,1,2,3,4,5,6,8,9,10,11,12,13,14,15,16,17,18,19,20,21,22,23,24,25,26]].values\n",
        "# meu jeito\n",
        "coluna_excluir = 7\n",
        "X = base.iloc[:, [col for col in range(base.shape[1]) if col != coluna_excluir]].values\n"
      ],
      "metadata": {
        "id": "TPSD_-rn4ilR"
      },
      "execution_count": 3,
      "outputs": []
    },
    {
      "cell_type": "code",
      "source": [
        "base = base.drop(['Unnamed: 0'], axis=1)"
      ],
      "metadata": {
        "id": "6UbceQvt7TCe"
      },
      "execution_count": 4,
      "outputs": []
    },
    {
      "cell_type": "code",
      "source": [
        "y"
      ],
      "metadata": {
        "colab": {
          "base_uri": "https://localhost:8080/"
        },
        "id": "yiU9Bq5C6lCa",
        "outputId": "430dc863-3511-40d4-a345-ffe80f07cec4"
      },
      "execution_count": 5,
      "outputs": [
        {
          "output_type": "execute_result",
          "data": {
            "text/plain": [
              "array(['EggShell', 'Football', 'Football', ..., 'Football', 'Football',\n",
              "       'Tank'], dtype=object)"
            ]
          },
          "metadata": {},
          "execution_count": 5
        }
      ]
    },
    {
      "cell_type": "code",
      "source": [
        "X"
      ],
      "metadata": {
        "colab": {
          "base_uri": "https://localhost:8080/"
        },
        "id": "cOIbMjxc6neR",
        "outputId": "b796a483-e7f5-4536-a636-c2642a59abb0"
      },
      "execution_count": 6,
      "outputs": [
        {
          "output_type": "execute_result",
          "data": {
            "text/plain": [
              "array([[1, False, 'Adult', ..., False, 'Thousand', 'Many'],\n",
              "       [2, False, 'Senior', ..., True, 'Thousand', 'Zero'],\n",
              "       [3, False, 'Senior', ..., True, 'Thousand', 'One'],\n",
              "       ...,\n",
              "       [19998, False, 'Senior', ..., True, 'Thousand', 'Zero'],\n",
              "       [19999, False, 'Adult', ..., True, 'Thousand', 'Zero'],\n",
              "       [20000, False, 'Adult', ..., True, 'Thousand', 'Zero']],\n",
              "      dtype=object)"
            ]
          },
          "metadata": {},
          "execution_count": 6
        }
      ]
    },
    {
      "cell_type": "code",
      "source": [
        "labelencoder = LabelEncoder()"
      ],
      "metadata": {
        "id": "ceBhO9IVm1Bc"
      },
      "execution_count": 7,
      "outputs": []
    },
    {
      "cell_type": "code",
      "source": [
        "for i in range(X.shape[1]):\n",
        "  if X[:,i].dtype == 'object':\n",
        "    X[:,i] = labelencoder.fit_transform(X[:,i])"
      ],
      "metadata": {
        "id": "bSg_gQALnlUC"
      },
      "execution_count": 8,
      "outputs": []
    },
    {
      "cell_type": "code",
      "source": [
        "X"
      ],
      "metadata": {
        "colab": {
          "base_uri": "https://localhost:8080/"
        },
        "id": "tcNRwD-xobkj",
        "outputId": "d736d731-d4df-4dc0-b532-672bce0732e5"
      },
      "execution_count": 9,
      "outputs": [
        {
          "output_type": "execute_result",
          "data": {
            "text/plain": [
              "array([[0, 0, 1, ..., 0, 3, 0],\n",
              "       [1, 0, 2, ..., 1, 3, 2],\n",
              "       [2, 0, 2, ..., 1, 3, 1],\n",
              "       ...,\n",
              "       [19997, 0, 2, ..., 1, 3, 2],\n",
              "       [19998, 0, 1, ..., 1, 3, 2],\n",
              "       [19999, 0, 1, ..., 1, 3, 2]], dtype=object)"
            ]
          },
          "metadata": {},
          "execution_count": 9
        }
      ]
    },
    {
      "cell_type": "markdown",
      "source": [
        "**Dividindo dados em treino e teste**"
      ],
      "metadata": {
        "id": "lDVjHCSHoyc5"
      }
    },
    {
      "cell_type": "code",
      "source": [
        "# os dados de teste serão selecionados de forma aleatória\n",
        "# mas quando quiser os dados de um determinado teste, tem como escolher através do random_state\n",
        "# 70% das variáveis p treinamento e 30% para teste\n",
        "X_treinamento, X_teste, y_treinamento, y_teste = train_test_split(X,y,test_size=0.3, random_state=1)"
      ],
      "metadata": {
        "id": "E4DCkcoyolwM"
      },
      "execution_count": 10,
      "outputs": []
    },
    {
      "cell_type": "code",
      "source": [
        "modelo = GaussianNB()\n",
        "modelo.fit(X_treinamento, y_treinamento)"
      ],
      "metadata": {
        "colab": {
          "base_uri": "https://localhost:8080/",
          "height": 75
        },
        "id": "rez6Lc-b0txX",
        "outputId": "ff4356ae-d881-4476-af23-15a196f7c73f"
      },
      "execution_count": 11,
      "outputs": [
        {
          "output_type": "execute_result",
          "data": {
            "text/plain": [
              "GaussianNB()"
            ],
            "text/html": [
              "<style>#sk-container-id-1 {color: black;background-color: white;}#sk-container-id-1 pre{padding: 0;}#sk-container-id-1 div.sk-toggleable {background-color: white;}#sk-container-id-1 label.sk-toggleable__label {cursor: pointer;display: block;width: 100%;margin-bottom: 0;padding: 0.3em;box-sizing: border-box;text-align: center;}#sk-container-id-1 label.sk-toggleable__label-arrow:before {content: \"▸\";float: left;margin-right: 0.25em;color: #696969;}#sk-container-id-1 label.sk-toggleable__label-arrow:hover:before {color: black;}#sk-container-id-1 div.sk-estimator:hover label.sk-toggleable__label-arrow:before {color: black;}#sk-container-id-1 div.sk-toggleable__content {max-height: 0;max-width: 0;overflow: hidden;text-align: left;background-color: #f0f8ff;}#sk-container-id-1 div.sk-toggleable__content pre {margin: 0.2em;color: black;border-radius: 0.25em;background-color: #f0f8ff;}#sk-container-id-1 input.sk-toggleable__control:checked~div.sk-toggleable__content {max-height: 200px;max-width: 100%;overflow: auto;}#sk-container-id-1 input.sk-toggleable__control:checked~label.sk-toggleable__label-arrow:before {content: \"▾\";}#sk-container-id-1 div.sk-estimator input.sk-toggleable__control:checked~label.sk-toggleable__label {background-color: #d4ebff;}#sk-container-id-1 div.sk-label input.sk-toggleable__control:checked~label.sk-toggleable__label {background-color: #d4ebff;}#sk-container-id-1 input.sk-hidden--visually {border: 0;clip: rect(1px 1px 1px 1px);clip: rect(1px, 1px, 1px, 1px);height: 1px;margin: -1px;overflow: hidden;padding: 0;position: absolute;width: 1px;}#sk-container-id-1 div.sk-estimator {font-family: monospace;background-color: #f0f8ff;border: 1px dotted black;border-radius: 0.25em;box-sizing: border-box;margin-bottom: 0.5em;}#sk-container-id-1 div.sk-estimator:hover {background-color: #d4ebff;}#sk-container-id-1 div.sk-parallel-item::after {content: \"\";width: 100%;border-bottom: 1px solid gray;flex-grow: 1;}#sk-container-id-1 div.sk-label:hover label.sk-toggleable__label {background-color: #d4ebff;}#sk-container-id-1 div.sk-serial::before {content: \"\";position: absolute;border-left: 1px solid gray;box-sizing: border-box;top: 0;bottom: 0;left: 50%;z-index: 0;}#sk-container-id-1 div.sk-serial {display: flex;flex-direction: column;align-items: center;background-color: white;padding-right: 0.2em;padding-left: 0.2em;position: relative;}#sk-container-id-1 div.sk-item {position: relative;z-index: 1;}#sk-container-id-1 div.sk-parallel {display: flex;align-items: stretch;justify-content: center;background-color: white;position: relative;}#sk-container-id-1 div.sk-item::before, #sk-container-id-1 div.sk-parallel-item::before {content: \"\";position: absolute;border-left: 1px solid gray;box-sizing: border-box;top: 0;bottom: 0;left: 50%;z-index: -1;}#sk-container-id-1 div.sk-parallel-item {display: flex;flex-direction: column;z-index: 1;position: relative;background-color: white;}#sk-container-id-1 div.sk-parallel-item:first-child::after {align-self: flex-end;width: 50%;}#sk-container-id-1 div.sk-parallel-item:last-child::after {align-self: flex-start;width: 50%;}#sk-container-id-1 div.sk-parallel-item:only-child::after {width: 0;}#sk-container-id-1 div.sk-dashed-wrapped {border: 1px dashed gray;margin: 0 0.4em 0.5em 0.4em;box-sizing: border-box;padding-bottom: 0.4em;background-color: white;}#sk-container-id-1 div.sk-label label {font-family: monospace;font-weight: bold;display: inline-block;line-height: 1.2em;}#sk-container-id-1 div.sk-label-container {text-align: center;}#sk-container-id-1 div.sk-container {/* jupyter's `normalize.less` sets `[hidden] { display: none; }` but bootstrap.min.css set `[hidden] { display: none !important; }` so we also need the `!important` here to be able to override the default hidden behavior on the sphinx rendered scikit-learn.org. See: https://github.com/scikit-learn/scikit-learn/issues/21755 */display: inline-block !important;position: relative;}#sk-container-id-1 div.sk-text-repr-fallback {display: none;}</style><div id=\"sk-container-id-1\" class=\"sk-top-container\"><div class=\"sk-text-repr-fallback\"><pre>GaussianNB()</pre><b>In a Jupyter environment, please rerun this cell to show the HTML representation or trust the notebook. <br />On GitHub, the HTML representation is unable to render, please try loading this page with nbviewer.org.</b></div><div class=\"sk-container\" hidden><div class=\"sk-item\"><div class=\"sk-estimator sk-toggleable\"><input class=\"sk-toggleable__control sk-hidden--visually\" id=\"sk-estimator-id-1\" type=\"checkbox\" checked><label for=\"sk-estimator-id-1\" class=\"sk-toggleable__label sk-toggleable__label-arrow\">GaussianNB</label><div class=\"sk-toggleable__content\"><pre>GaussianNB()</pre></div></div></div></div></div>"
            ]
          },
          "metadata": {},
          "execution_count": 11
        }
      ]
    },
    {
      "cell_type": "code",
      "source": [
        "previsoes = modelo.predict(X_teste)"
      ],
      "metadata": {
        "id": "cV19365h1c5J"
      },
      "execution_count": 14,
      "outputs": []
    },
    {
      "cell_type": "code",
      "source": [
        "previsoes"
      ],
      "metadata": {
        "colab": {
          "base_uri": "https://localhost:8080/"
        },
        "id": "MBKvyxh51hLW",
        "outputId": "8b15adda-5fd5-4847-f4d9-4042ef0cd38d"
      },
      "execution_count": 15,
      "outputs": [
        {
          "output_type": "execute_result",
          "data": {
            "text/plain": [
              "array(['Football', 'EggShell', 'EggShell', ..., 'Tank', 'Tank',\n",
              "       'EggShell'], dtype='<U8')"
            ]
          },
          "metadata": {},
          "execution_count": 15
        }
      ]
    },
    {
      "cell_type": "markdown",
      "source": [
        "**Agora que tem as previsões deve medir a performance do modelo**\n",
        "\n",
        "\n",
        "*   Accurancy é o mais simples, que mede o quanto acertou.\n",
        "\n"
      ],
      "metadata": {
        "id": "cdA9v9mq1sSJ"
      }
    },
    {
      "cell_type": "code",
      "source": [
        "# pq estou cruzando y_teste com previsões ?\n",
        "# previsões é o y de X teste, entao y_teste e previsoes deveriam ser equivalentes\n",
        "# Logo, medir a ACURACIA é pegar o que previu e comparar c y teste\n",
        "accuracy = accuracy_score(y_teste, previsoes)\n",
        "precision = precision_score(y_teste, previsoes, average=None)\n",
        "recall = recall_score(y_teste, previsoes, average='weighted')\n",
        "f1 = f1_score(y_teste, previsoes, average='weighted')\n",
        "print(f'Acuracia: {accuracy}, Precisão: {precision}, Recall: {recall}, F1: {f1}')"
      ],
      "metadata": {
        "colab": {
          "base_uri": "https://localhost:8080/"
        },
        "id": "Qa9yPBXK1reW",
        "outputId": "40e5e9a6-e172-483b-94ed-488e158e9262"
      },
      "execution_count": 19,
      "outputs": [
        {
          "output_type": "stream",
          "name": "stdout",
          "text": [
            "Acuracia: 0.6626666666666666, Precisão: [0.75869845 0.5837469  0.52959502], Recall: 0.6626666666666666, F1: 0.6568947676284081\n"
          ]
        }
      ]
    },
    {
      "cell_type": "code",
      "source": [
        "report = classification_report(y_teste, previsoes)\n",
        "print(report)"
      ],
      "metadata": {
        "colab": {
          "base_uri": "https://localhost:8080/"
        },
        "id": "m9hE1WdN5nD2",
        "outputId": "a58d27c0-6221-438e-d0e8-1754c7ee1d5c"
      },
      "execution_count": 20,
      "outputs": [
        {
          "output_type": "stream",
          "name": "stdout",
          "text": [
            "              precision    recall  f1-score   support\n",
            "\n",
            "    EggShell       0.76      0.80      0.78      2948\n",
            "    Football       0.58      0.45      0.51      2073\n",
            "        Tank       0.53      0.69      0.60       979\n",
            "\n",
            "    accuracy                           0.66      6000\n",
            "   macro avg       0.62      0.65      0.63      6000\n",
            "weighted avg       0.66      0.66      0.66      6000\n",
            "\n"
          ]
        }
      ]
    },
    {
      "cell_type": "code",
      "source": [
        "confusao = ConfusionMatrix(modelo, classes=['None', 'Severe', 'Mild', 'Moderate'])\n",
        "confusao.fit(X_treinamento, y_treinamento)\n",
        "confusao.score(X_teste, y_teste)\n",
        "confusao.poof\n",
        "# a linha diagonal são os acertos !"
      ],
      "metadata": {
        "colab": {
          "base_uri": "https://localhost:8080/",
          "height": 644
        },
        "id": "ixQtftDP6IW4",
        "outputId": "79025c82-9cbe-4915-d8bd-55c1f22a6acc"
      },
      "execution_count": 21,
      "outputs": [
        {
          "output_type": "execute_result",
          "data": {
            "text/plain": [
              "<bound method Visualizer.poof of ConfusionMatrix(ax=<Axes: >, classes=['None', 'Severe', 'Mild', 'Moderate'],\n",
              "                cmap=<matplotlib.colors.ListedColormap object at 0x7e4772d751b0>,\n",
              "                estimator=GaussianNB())>"
            ],
            "text/html": [
              "<div style=\"max-width:800px; border: 1px solid var(--colab-border-color);\"><style>\n",
              "      pre.function-repr-contents {\n",
              "        overflow-x: auto;\n",
              "        padding: 8px 12px;\n",
              "        max-height: 500px;\n",
              "      }\n",
              "\n",
              "      pre.function-repr-contents.function-repr-contents-collapsed {\n",
              "        cursor: pointer;\n",
              "        max-height: 100px;\n",
              "      }\n",
              "    </style>\n",
              "    <pre style=\"white-space: initial; background:\n",
              "         var(--colab-secondary-surface-color); padding: 8px 12px;\n",
              "         border-bottom: 1px solid var(--colab-border-color);\"><b>yellowbrick.base.Visualizer.poof</b><br/>def poof(*args, **kwargs)</pre><pre class=\"function-repr-contents function-repr-contents-collapsed\" style=\"\"><a class=\"filepath\" style=\"display:none\" href=\"#\">/usr/local/lib/python3.10/dist-packages/yellowbrick/base.py</a>This method is deprecated, please use ``show()`` instead.</pre>\n",
              "      <script>\n",
              "      if (google.colab.kernel.accessAllowed && google.colab.files && google.colab.files.view) {\n",
              "        for (const element of document.querySelectorAll('.filepath')) {\n",
              "          element.style.display = 'block'\n",
              "          element.onclick = (event) => {\n",
              "            event.preventDefault();\n",
              "            event.stopPropagation();\n",
              "            google.colab.files.view(element.textContent, 254);\n",
              "          };\n",
              "        }\n",
              "      }\n",
              "      for (const element of document.querySelectorAll('.function-repr-contents')) {\n",
              "        element.onclick = (event) => {\n",
              "          event.preventDefault();\n",
              "          event.stopPropagation();\n",
              "          element.classList.toggle('function-repr-contents-collapsed');\n",
              "        };\n",
              "      }\n",
              "      </script>\n",
              "      </div>"
            ]
          },
          "metadata": {},
          "execution_count": 21
        },
        {
          "output_type": "display_data",
          "data": {
            "text/plain": [
              "<Figure size 800x550 with 1 Axes>"
            ],
            "image/png": "[encoded data removed]"
          },
          "metadata": {}
        }
      ]
    }
  ]
}